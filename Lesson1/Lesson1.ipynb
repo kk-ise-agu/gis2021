{
 "cells": [
  {
   "cell_type": "markdown",
   "id": "mysterious-jerusalem",
   "metadata": {},
   "source": [
    "# Lesson 1"
   ]
  },
  {
   "cell_type": "markdown",
   "id": "changing-amazon",
   "metadata": {},
   "source": [
    "This notebook is based on the materials at https://geo-python-site.readthedocs.io/. "
   ]
  },
  {
   "cell_type": "markdown",
   "id": "stock-particular",
   "metadata": {},
   "source": [
    "## Simple Python math \n",
    "\n",
    "Try it out by typing 1 + 1 or 5 * 7 and see what you get.\n",
    "\n"
   ]
  },
  {
   "cell_type": "code",
   "execution_count": 10,
   "id": "extended-professor",
   "metadata": {},
   "outputs": [
    {
     "data": {
      "text/plain": [
       "2"
      ]
     },
     "execution_count": 10,
     "metadata": {},
     "output_type": "execute_result"
    }
   ],
   "source": [
    "1+1"
   ]
  },
  {
   "cell_type": "code",
   "execution_count": 11,
   "id": "standard-office",
   "metadata": {},
   "outputs": [
    {
     "data": {
      "text/plain": [
       "35"
      ]
     },
     "execution_count": 11,
     "metadata": {},
     "output_type": "execute_result"
    }
   ],
   "source": [
    "5*7"
   ]
  },
  {
   "cell_type": "markdown",
   "id": "inner-blake",
   "metadata": {},
   "source": [
    "If you want to edit and re-run some code, simply make changes to the cell and press Shift-Enter to execute the modified code.\n",
    "\n"
   ]
  },
  {
   "cell_type": "markdown",
   "id": "first-allah",
   "metadata": {},
   "source": [
    "## Functions"
   ]
  },
  {
   "cell_type": "markdown",
   "id": "strong-leave",
   "metadata": {},
   "source": [
    "You can use Python for more advanced math by using a function (funktio). Functions are pieces of code that perform a single action such as printing information to the screen (e.g., the print() function). Functions exist for a huge number of operations in Python.\n",
    "\n",
    "Let’s try out a few simple examples using functions to find the sine or square root of a value. You can type sin(3) or sqrt(4) into the cells below to test this out."
   ]
  },
  {
   "cell_type": "code",
   "execution_count": 12,
   "id": "intended-ancient",
   "metadata": {},
   "outputs": [
    {
     "ename": "NameError",
     "evalue": "name 'sin' is not defined",
     "output_type": "error",
     "traceback": [
      "\u001b[0;31m---------------------------------------------------------------------------\u001b[0m",
      "\u001b[0;31mNameError\u001b[0m                                 Traceback (most recent call last)",
      "\u001b[0;32m<ipython-input-12-2b5fc2868c51>\u001b[0m in \u001b[0;36m<module>\u001b[0;34m\u001b[0m\n\u001b[0;32m----> 1\u001b[0;31m \u001b[0msin\u001b[0m\u001b[0;34m(\u001b[0m\u001b[0;36m3\u001b[0m\u001b[0;34m)\u001b[0m\u001b[0;34m\u001b[0m\u001b[0;34m\u001b[0m\u001b[0m\n\u001b[0m",
      "\u001b[0;31mNameError\u001b[0m: name 'sin' is not defined"
     ]
    }
   ],
   "source": [
    "sin(3)"
   ]
  },
  {
   "cell_type": "code",
   "execution_count": 13,
   "id": "unavailable-packet",
   "metadata": {},
   "outputs": [
    {
     "ename": "NameError",
     "evalue": "name 'sqrt' is not defined",
     "output_type": "error",
     "traceback": [
      "\u001b[0;31m---------------------------------------------------------------------------\u001b[0m",
      "\u001b[0;31mNameError\u001b[0m                                 Traceback (most recent call last)",
      "\u001b[0;32m<ipython-input-13-317e033d29d5>\u001b[0m in \u001b[0;36m<module>\u001b[0;34m\u001b[0m\n\u001b[0;32m----> 1\u001b[0;31m \u001b[0msqrt\u001b[0m\u001b[0;34m(\u001b[0m\u001b[0;36m4\u001b[0m\u001b[0;34m)\u001b[0m\u001b[0;34m\u001b[0m\u001b[0;34m\u001b[0m\u001b[0m\n\u001b[0m",
      "\u001b[0;31mNameError\u001b[0m: name 'sqrt' is not defined"
     ]
    }
   ],
   "source": [
    "sqrt(4)"
   ]
  },
  {
   "cell_type": "markdown",
   "id": "alien-software",
   "metadata": {},
   "source": [
    "Wait, what? Python can’t calculate square roots or do basic trigonometry? Of course it can, but we need one more step.\n",
    "\n"
   ]
  },
  {
   "cell_type": "markdown",
   "id": "blocked-equation",
   "metadata": {},
   "source": [
    "## Math operations\n",
    "\n",
    "|  TH  |  TH  | TH |\n",
    "| ---- | ---- | --- |\n",
    "| Addition  |  +  | 2+2|\n",
    "|Subtraction |  - |  4-2 |\n",
    "|Multiplication | * | 2*3 |\n",
    "|Division | / | 4/2 |\n",
    "| Exponetiation | ** | 2**3 |"
   ]
  },
  {
   "cell_type": "markdown",
   "id": "humanitarian-color",
   "metadata": {},
   "source": [
    "For anything more advanced, we need to load a module (moduuli) or library. For math operations, this module is called math and it can be loaded by typing import math. Try that below."
   ]
  },
  {
   "cell_type": "code",
   "execution_count": 14,
   "id": "marked-quarterly",
   "metadata": {},
   "outputs": [],
   "source": [
    "import math"
   ]
  },
  {
   "cell_type": "markdown",
   "id": "unique-forge",
   "metadata": {},
   "source": [
    "Now that we have access to functions in the math module, we can use it by typing the module name, a period (dot), and the the name of the function we want to use. For example, math.sin(3). Try this with the sine and square root examples from above."
   ]
  },
  {
   "cell_type": "code",
   "execution_count": 15,
   "id": "native-sleeve",
   "metadata": {},
   "outputs": [
    {
     "data": {
      "text/plain": [
       "0.1411200080598672"
      ]
     },
     "execution_count": 15,
     "metadata": {},
     "output_type": "execute_result"
    }
   ],
   "source": [
    "math.sin(3)"
   ]
  },
  {
   "cell_type": "code",
   "execution_count": 16,
   "id": "serious-terrorism",
   "metadata": {},
   "outputs": [
    {
     "data": {
      "text/plain": [
       "2.0"
      ]
     },
     "execution_count": 16,
     "metadata": {},
     "output_type": "execute_result"
    }
   ],
   "source": [
    "math.sqrt(4)"
   ]
  },
  {
   "cell_type": "markdown",
   "id": "marked-colony",
   "metadata": {},
   "source": [
    "Let’s summarize what we’ve just seen with modules:\n",
    "\n",
    "A module is a group of code items such as functions that are related to one another. Individual modules are often in a group referred to as a library.\n",
    "\n",
    "Modules can be loaded using import. Functions that are part of the module modulename can then be used by typing modulename.functionname(). For example, sin() is a function that is part of the math module, and used by typing math.sin() with some number between the parentheses.\n",
    "\n",
    "Within a given Jupyter Notebook the variables you define earlier in the notebook will be available for use in the cells that follow as long as you have already executed the cells.\n",
    "\n",
    "Modules may also contain constants such as math.pi. Type this in the cell below to see the value of the contant math.pi."
   ]
  },
  {
   "cell_type": "code",
   "execution_count": 9,
   "id": "remarkable-grain",
   "metadata": {},
   "outputs": [
    {
     "data": {
      "text/plain": [
       "3.141592653589793"
      ]
     },
     "execution_count": 9,
     "metadata": {},
     "output_type": "execute_result"
    }
   ],
   "source": [
    "math.pi"
   ]
  },
  {
   "cell_type": "markdown",
   "id": "relative-support",
   "metadata": {},
   "source": [
    "## Check your understanding\n",
    "\n",
    "Use the empty Python cell below to calculate the sine of pi. What value do you expect for this calculation? Did you get the expected result?"
   ]
  },
  {
   "cell_type": "code",
   "execution_count": 18,
   "id": "constant-exhibition",
   "metadata": {},
   "outputs": [],
   "source": [
    "#Enter your own program here to calculate the sine of pi.\n",
    "#\n",
    "#\n",
    "#\n"
   ]
  },
  {
   "cell_type": "markdown",
   "id": "secondary-default",
   "metadata": {},
   "source": [
    "## Combining functions\n",
    "\n",
    "Functions can also be combined. The print() function returns values within the parentheses as text on the screen. Below, try printing the value of the square root of four.\n"
   ]
  },
  {
   "cell_type": "code",
   "execution_count": 19,
   "id": "consecutive-marketing",
   "metadata": {},
   "outputs": [
    {
     "name": "stdout",
     "output_type": "stream",
     "text": [
      "2.0\n"
     ]
    }
   ],
   "source": [
    "print(math.sqrt(4))"
   ]
  },
  {
   "cell_type": "markdown",
   "id": "boolean-regular",
   "metadata": {},
   "source": [
    "You can also combine text with other calculated values using the print() function. For example, print('Two plus two is', 2+2) would generate text reading ‘Two plus two is 4’. Combine the print() function with the math.sqrt() function in the cell below to produce text that reads ‘The square root of 4 is 2.0’."
   ]
  },
  {
   "cell_type": "code",
   "execution_count": 20,
   "id": "noticed-stomach",
   "metadata": {},
   "outputs": [
    {
     "name": "stdout",
     "output_type": "stream",
     "text": [
      "The square root of 4 is 2.0\n"
     ]
    }
   ],
   "source": [
    "print('The square root of 4 is', math.sqrt(4))"
   ]
  },
  {
   "cell_type": "markdown",
   "id": "dried-blood",
   "metadata": {},
   "source": [
    "## Variables\n",
    "\n",
    "A variable can be used to store values calculated in expressions and used for other calculations. Assigning value to variables is straightforward. To assign a value, you simply type variable_name = value, where variable_name is the name of the variable you wish to define. In the cell below, define a variable called temp_celsius, assign it a value of ‘10.0’, and then print that variable value using the print() function. Note that you should do this on two separate lines.\n"
   ]
  },
  {
   "cell_type": "code",
   "execution_count": 21,
   "id": "frozen-income",
   "metadata": {},
   "outputs": [
    {
     "name": "stdout",
     "output_type": "stream",
     "text": [
      "10.0\n"
     ]
    }
   ],
   "source": [
    "temp_celsius = 10.0\n",
    "print(temp_celsius)"
   ]
  },
  {
   "cell_type": "markdown",
   "id": "national-jewel",
   "metadata": {},
   "source": [
    "As we did above, you can combine text and even use some math when printing out variable values. The idea is similar to the examples of adding 2+2 or calculating the square root of four from the previous section. In the cell below, print out the value of temp_celsius in degrees Fahrenheit by multiplying temp_celsius by 9/5 and adding 32. This should be done within the `print()` function to produce output that reads `Temperature in Fahrenheit: 50.0`."
   ]
  },
  {
   "cell_type": "code",
   "execution_count": 22,
   "id": "grave-solid",
   "metadata": {},
   "outputs": [
    {
     "name": "stdout",
     "output_type": "stream",
     "text": [
      "Temperature in Fahrenheit: 50.0\n"
     ]
    }
   ],
   "source": [
    "print('Temperature in Fahrenheit:', 9/5 * temp_celsius + 32)"
   ]
  },
  {
   "cell_type": "markdown",
   "id": "worldwide-remedy",
   "metadata": {},
   "source": [
    "## Check your understanding¶\n",
    "\n",
    "Use the empty Python cell below to define a variable and print its value to the screen using the `print()` function. The variable value can be anything you like, and you can even consider defining several variables and printing them out together. Consider using pothole_case_naming for your variable name."
   ]
  },
  {
   "cell_type": "markdown",
   "id": "arranged-bathroom",
   "metadata": {},
   "source": [
    "## Updating variables¶\n",
    "\n",
    "Values stored in variables can also be updated. Let’s redefine the value of temp_celsius to be equal to 15.0 and print its value in the cells below.\n"
   ]
  },
  {
   "cell_type": "code",
   "execution_count": 25,
   "id": "opening-waterproof",
   "metadata": {},
   "outputs": [
    {
     "ename": "SyntaxError",
     "evalue": "illegal target for annotation (<ipython-input-25-5ccc8f2f7b92>, line 3)",
     "output_type": "error",
     "traceback": [
      "\u001b[0;36m  File \u001b[0;32m\"<ipython-input-25-5ccc8f2f7b92>\"\u001b[0;36m, line \u001b[0;32m3\u001b[0m\n\u001b[0;31m    temperature in Celsius is now: 15.0\u001b[0m\n\u001b[0m    ^\u001b[0m\n\u001b[0;31mSyntaxError\u001b[0m\u001b[0;31m:\u001b[0m illegal target for annotation\n"
     ]
    }
   ],
   "source": [
    "temp_celsius = 15.0\n",
    "print('temperature in Celsius is now:', temp_celsius)\n",
    "temperature in Celsius is now: 15.0"
   ]
  },
  {
   "cell_type": "markdown",
   "id": "unknown-conference",
   "metadata": {},
   "source": [
    "If you try to run some code that accesses a variable that has not yet been defined you will get a NameError message. Try printing out the value of the variable `tempFahrenheit` using the `print()` function in the cell below."
   ]
  },
  {
   "cell_type": "code",
   "execution_count": 26,
   "id": "bright-boxing",
   "metadata": {},
   "outputs": [
    {
     "ename": "NameError",
     "evalue": "name 'tempFahrenheit' is not defined",
     "output_type": "error",
     "traceback": [
      "\u001b[0;31m---------------------------------------------------------------------------\u001b[0m",
      "\u001b[0;31mNameError\u001b[0m                                 Traceback (most recent call last)",
      "\u001b[0;32m<ipython-input-26-2067e78f4444>\u001b[0m in \u001b[0;36m<module>\u001b[0;34m\u001b[0m\n\u001b[0;32m----> 1\u001b[0;31m \u001b[0mprint\u001b[0m\u001b[0;34m(\u001b[0m\u001b[0;34m'Temperature in Celsius:'\u001b[0m\u001b[0;34m,\u001b[0m \u001b[0;36m5\u001b[0m\u001b[0;34m/\u001b[0m\u001b[0;36m9\u001b[0m \u001b[0;34m*\u001b[0m \u001b[0;34m(\u001b[0m\u001b[0mtempFahrenheit\u001b[0m \u001b[0;34m-\u001b[0m \u001b[0;36m32\u001b[0m\u001b[0;34m)\u001b[0m\u001b[0;34m)\u001b[0m\u001b[0;34m\u001b[0m\u001b[0;34m\u001b[0m\u001b[0m\n\u001b[0m",
      "\u001b[0;31mNameError\u001b[0m: name 'tempFahrenheit' is not defined"
     ]
    }
   ],
   "source": [
    "print('Temperature in Celsius:', 5/9 * (tempFahrenheit - 32))"
   ]
  },
  {
   "cell_type": "markdown",
   "id": "celtic-reply",
   "metadata": {},
   "source": [
    "The variable `tempFahrenheit` is not defined. Let's define the variable using the following code."
   ]
  },
  {
   "cell_type": "code",
   "execution_count": 27,
   "id": "robust-shannon",
   "metadata": {},
   "outputs": [],
   "source": [
    "tempFahrenheit = 9/5 * temp_celsius + 32"
   ]
  },
  {
   "cell_type": "markdown",
   "id": "soviet-estimate",
   "metadata": {},
   "source": [
    "Just to check their current values, print out the values of temp_celsius and tempFahrenheit in the cell below."
   ]
  },
  {
   "cell_type": "code",
   "execution_count": 28,
   "id": "impaired-prospect",
   "metadata": {},
   "outputs": [
    {
     "name": "stdout",
     "output_type": "stream",
     "text": [
      "temperature in Celsius: 10.0 and in Fahrenheit: 50.0\n"
     ]
    }
   ],
   "source": [
    "print('temperature in Celsius:', temp_celsius, 'and in Fahrenheit:', tempFahrenheit)"
   ]
  },
  {
   "cell_type": "markdown",
   "id": "sudden-design",
   "metadata": {},
   "source": [
    "## Variable values\n",
    "\n",
    "Changing the value of a variable does not affect other variable values. Let’s redefine temp_celsius to be equal to 20.0, and print out the values of temp_celsius and tempFahrenheit."
   ]
  },
  {
   "cell_type": "code",
   "execution_count": 29,
   "id": "characteristic-sacrifice",
   "metadata": {},
   "outputs": [
    {
     "name": "stdout",
     "output_type": "stream",
     "text": [
      "temperature in Celsius is now: 20.0 and temperature in Fahrenheit is still: 50.0\n"
     ]
    }
   ],
   "source": [
    "temp_celsius = 20.0\n",
    "print('temperature in Celsius is now:', temp_celsius, 'and temperature in Fahrenheit is still:', tempFahrenheit)"
   ]
  },
  {
   "cell_type": "markdown",
   "id": "oriental-terry",
   "metadata": {},
   "source": [
    "## Data types\n",
    "\n",
    "A data type determines the characteristics of data in a program. There are 4 basic data types in Python as shown in the table below.\n",
    "\n",
    "\n",
    "|  Data type name  |  Data type  | Example |\n",
    "| ---- | ---- | --- |\n",
    "| `int`  |  Whole integer values  | `4`|\n",
    "|`float` |  Decimal values |  `3.1415` |\n",
    "|`str` | Character strings | `Hot` |\n",
    "|`bool` | True/false values | `True` |\n",
    "\n",
    "The data type can be found using the `type()` function. As you will see, the data types are important because some are not compatible with one another.\n",
    "\n",
    "Let’s define a variable `weatherForecast` and assign it the value `Hot`. After this, we can check its data type using the `type()` function."
   ]
  },
  {
   "cell_type": "code",
   "execution_count": 30,
   "id": "applied-cylinder",
   "metadata": {},
   "outputs": [
    {
     "data": {
      "text/plain": [
       "str"
      ]
     },
     "execution_count": 30,
     "metadata": {},
     "output_type": "execute_result"
    }
   ],
   "source": [
    "weatherForecast = 'Hot'\n",
    "type(weatherForecast)"
   ]
  },
  {
   "cell_type": "markdown",
   "id": "important-break",
   "metadata": {},
   "source": [
    "Let’s also check the type of `tempFahrenheit`. What happens if you try to combine `tempFahrenheit` and `weatherForecast` in a single math equation such as `tempFahrenheit = tempFahrenheit + 5.0 * weatherForecast`?"
   ]
  },
  {
   "cell_type": "code",
   "execution_count": 31,
   "id": "frank-binding",
   "metadata": {},
   "outputs": [
    {
     "ename": "TypeError",
     "evalue": "can't multiply sequence by non-int of type 'float'",
     "output_type": "error",
     "traceback": [
      "\u001b[0;31m---------------------------------------------------------------------------\u001b[0m",
      "\u001b[0;31mTypeError\u001b[0m                                 Traceback (most recent call last)",
      "\u001b[0;32m<ipython-input-31-41e07022ce91>\u001b[0m in \u001b[0;36m<module>\u001b[0;34m\u001b[0m\n\u001b[1;32m      1\u001b[0m \u001b[0mtype\u001b[0m\u001b[0;34m(\u001b[0m\u001b[0mtempFahrenheit\u001b[0m\u001b[0;34m)\u001b[0m\u001b[0;34m\u001b[0m\u001b[0;34m\u001b[0m\u001b[0m\n\u001b[0;32m----> 2\u001b[0;31m \u001b[0mtempFahrenheit\u001b[0m \u001b[0;34m=\u001b[0m \u001b[0mtempFahrenheit\u001b[0m \u001b[0;34m+\u001b[0m \u001b[0;36m5.0\u001b[0m \u001b[0;34m*\u001b[0m \u001b[0mweatherForecast\u001b[0m\u001b[0;34m\u001b[0m\u001b[0;34m\u001b[0m\u001b[0m\n\u001b[0m",
      "\u001b[0;31mTypeError\u001b[0m: can't multiply sequence by non-int of type 'float'"
     ]
    }
   ],
   "source": [
    "type(tempFahrenheit)\n",
    "tempFahrenheit = tempFahrenheit + 5.0 * weatherForecast"
   ]
  },
  {
   "cell_type": "markdown",
   "id": "white-finance",
   "metadata": {},
   "source": [
    "In this case we get at TypeError because we are trying to execute a math operation with data types that are not compatible. There is no way in Python to multpily numbers with a character string.\n",
    "\n"
   ]
  },
  {
   "cell_type": "markdown",
   "id": "ultimate-network",
   "metadata": {},
   "source": [
    "## Check your understanding\n",
    "\n",
    "Python and Jupyter notebooks also let us interact in another way with our code! The built-in `input()` function reads a line from input and returns it as a string.\n",
    "\n",
    "Let’s try it out. To start, we can define a varaible place and assign its value using the `input()` function to prompt the user for the location where they are from (e.g., `input('Where are you from? ')`). When the cell is run, the user (you) can type in their response. Once place is defined, we can say something good about where the user is from (e.g., `print(place, 'is a nice place!')`)."
   ]
  },
  {
   "cell_type": "markdown",
   "id": "automated-volunteer",
   "metadata": {},
   "source": [
    "Warning\n",
    "\n",
    "Jupyter Notebooks might sometimes get stuck when using the `input()` function. If this happens, restart the kernel and run the cell again (`Kernel -> Restart Kernel…`).\n",
    "\n"
   ]
  },
  {
   "cell_type": "code",
   "execution_count": 32,
   "id": "substantial-command",
   "metadata": {},
   "outputs": [
    {
     "name": "stdin",
     "output_type": "stream",
     "text": [
      "Where are you from?  test\n"
     ]
    },
    {
     "name": "stdout",
     "output_type": "stream",
     "text": [
      "test is a nice place!\n"
     ]
    }
   ],
   "source": [
    "place = input('Where are you from? ')\n",
    "print(place, 'is a nice place!')"
   ]
  },
  {
   "cell_type": "markdown",
   "id": "increasing-irrigation",
   "metadata": {},
   "source": [
    "Let’s try another example in the cell below using the similar approach. Ask the user for a temperature in Celsius using the `input()` function and print the input value to the screen."
   ]
  },
  {
   "cell_type": "code",
   "execution_count": 33,
   "id": "lucky-logistics",
   "metadata": {},
   "outputs": [
    {
     "name": "stdin",
     "output_type": "stream",
     "text": [
      "How cold can it be in Kanagawa (in degrees Celsius)?  10\n"
     ]
    },
    {
     "name": "stdout",
     "output_type": "stream",
     "text": [
      "10 degrees Celsius is quite cold!\n"
     ]
    }
   ],
   "source": [
    "temp_celsius = input('How cold can it be in Kanagawa (in degrees Celsius)? ')\n",
    "print(temp_celsius, 'degrees Celsius is quite cold!')"
   ]
  },
  {
   "cell_type": "markdown",
   "id": "early-injury",
   "metadata": {},
   "source": [
    "What is the data type of variable place? What about the other variable you defined? Check their data types using the cell below."
   ]
  },
  {
   "cell_type": "code",
   "execution_count": 34,
   "id": "grave-shame",
   "metadata": {},
   "outputs": [
    {
     "name": "stdout",
     "output_type": "stream",
     "text": [
      "<class 'str'>\n",
      "<class 'str'>\n"
     ]
    }
   ],
   "source": [
    "print(type(place))\n",
    "print(type(temp_celsius))"
   ]
  },
  {
   "cell_type": "markdown",
   "id": "norwegian-composite",
   "metadata": {},
   "source": [
    "What happens when you try to convert your Celsius temperature value to Fahrenheit using the equation from earlier in the lesson?"
   ]
  },
  {
   "cell_type": "code",
   "execution_count": 35,
   "id": "developing-riverside",
   "metadata": {},
   "outputs": [
    {
     "ename": "TypeError",
     "evalue": "can't multiply sequence by non-int of type 'float'",
     "output_type": "error",
     "traceback": [
      "\u001b[0;31m---------------------------------------------------------------------------\u001b[0m",
      "\u001b[0;31mTypeError\u001b[0m                                 Traceback (most recent call last)",
      "\u001b[0;32m<ipython-input-35-464ce0a4c583>\u001b[0m in \u001b[0;36m<module>\u001b[0;34m\u001b[0m\n\u001b[0;32m----> 1\u001b[0;31m \u001b[0mtempFahrenheit\u001b[0m \u001b[0;34m=\u001b[0m \u001b[0;36m9\u001b[0m\u001b[0;34m/\u001b[0m\u001b[0;36m5\u001b[0m \u001b[0;34m*\u001b[0m \u001b[0mtemp_celsius\u001b[0m \u001b[0;34m+\u001b[0m \u001b[0;36m32\u001b[0m\u001b[0;34m\u001b[0m\u001b[0;34m\u001b[0m\u001b[0m\n\u001b[0m",
      "\u001b[0;31mTypeError\u001b[0m: can't multiply sequence by non-int of type 'float'"
     ]
    }
   ],
   "source": [
    "tempFahrenheit = 9/5 * temp_celsius + 32"
   ]
  },
  {
   "cell_type": "code",
   "execution_count": null,
   "id": "advised-connectivity",
   "metadata": {},
   "outputs": [],
   "source": []
  }
 ],
 "metadata": {
  "kernelspec": {
   "display_name": "Python 3",
   "language": "python",
   "name": "python3"
  },
  "language_info": {
   "codemirror_mode": {
    "name": "ipython",
    "version": 3
   },
   "file_extension": ".py",
   "mimetype": "text/x-python",
   "name": "python",
   "nbconvert_exporter": "python",
   "pygments_lexer": "ipython3",
   "version": "3.8.3"
  }
 },
 "nbformat": 4,
 "nbformat_minor": 5
}
